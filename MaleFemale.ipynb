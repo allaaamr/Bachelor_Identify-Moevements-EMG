{
 "cells": [
  {
   "cell_type": "code",
   "execution_count": 34,
   "metadata": {},
   "outputs": [],
   "source": [
    "import pandas as pd\n",
    "import numpy as np\n",
    "import scipy.io\n",
    "import math\n",
    "from collections import Counter\n",
    "import copy\n",
    "import warnings\n",
    "from tensorflow.keras.layers import Dense, Input\n",
    "from sklearn.preprocessing import StandardScaler\n",
    "from tensorflow.keras import Model\n",
    "from tensorflow.keras.optimizers import Adam\n",
    "from sklearn.ensemble import RandomForestClassifier\n",
    "from sklearn.metrics import accuracy_score\n",
    "from numpy import argmax\n",
    "warnings.filterwarnings(\"ignore\")"
   ]
  },
  {
   "cell_type": "code",
   "execution_count": 2,
   "metadata": {},
   "outputs": [],
   "source": [
    "def most_frequent(List):\n",
    "    occurence_count = Counter(List)\n",
    "    return occurence_count.most_common(1)[0][0]\n",
    "def rms(arr):\n",
    "    n = len(arr)\n",
    "    squared = np.array(arr) * np.array(arr)\n",
    "    sum = np.sum(squared)\n",
    "    mean = (sum / (float)(n))\n",
    "    root = math.sqrt(mean)\n",
    "    return root\n",
    "def mav(arr):\n",
    "    n = len(arr)\n",
    "    mav = sum((abs(np.array(arr))))/(float)(n)\n",
    "    return mav\n",
    "def var(arr):\n",
    "    n = len(arr)\n",
    "    squared = np.array(arr) * np.array(arr)\n",
    "    sum = np.sum(squared)\n",
    "    result = (sum / (float)(n))\n",
    "    return result\n",
    "def wl(arr):\n",
    "    n = len(arr)\n",
    "    sum = 0\n",
    "    for i in range(1, n):\n",
    "        sum += abs(arr[i] - arr[i - 1])\n",
    "    return sum\n",
    "def iav(arr):\n",
    "    return sum(abs(np.array(arr)))\n",
    "def mean(arr):\n",
    "    return np.sum(arr)/len(arr)\n",
    "    for key, value in d.items():\n",
    "        print('\\t' * indent + str(key))\n",
    "        if isinstance(value, dict):\n",
    "\n",
    "            pretty(value, indent + 2)\n",
    "            print('-----------------------')\n",
    "        else:\n",
    "            print('\\t' * (indent + 2) + str(value))\n",
    "            print(\" \")\n",
    "def consecutive(data, stepsize=1):\n",
    "    return np.split(data, np.where(np.diff(data) != stepsize)[0] + 1)\n",
    "def extractSubject(name):\n",
    "    ex1Path = 'DB1/' + name + '/' + name + '_A1_E1.mat'\n",
    "    print(ex1Path)\n",
    "    ex1 = scipy.io.loadmat(ex1Path)\n",
    "    emg = ex1['emg']\n",
    "    EMGdf = pd.DataFrame.from_dict(emg)\n",
    "    stimulus = ex1['restimulus']\n",
    "\n",
    "    ex2Path = 'DB1/' + name + '/' + name + '_A1_E2.mat'\n",
    "    ex2 = scipy.io.loadmat(ex2Path)\n",
    "    emg2 = ex2['emg']\n",
    "    EMGdf2 = pd.DataFrame.from_dict(emg2)\n",
    "    stimulus2 = ex2['restimulus']\n",
    "\n",
    "    ex3Path = 'DB1/' + name + '/' + name + '_A1_E3.mat'\n",
    "    ex3 = scipy.io.loadmat(ex3Path)\n",
    "    emg3 = ex3['emg']\n",
    "    EMGdf3 = pd.DataFrame.from_dict(emg3)\n",
    "    stimulus3 = ex3['restimulus']\n",
    "\n",
    "    Movements = {}\n",
    "    for m in range(1, 51):\n",
    "        if (m < 11):\n",
    "            movementIndices = np.where(stimulus == m)[0]\n",
    "            repetitions = consecutive(movementIndices)\n",
    "            EMG = EMGdf\n",
    "        elif (m < 28):\n",
    "            movementIndices = np.where(stimulus2 == (m - 10))[0]\n",
    "            repetitions = consecutive(movementIndices)\n",
    "            EMG = EMGdf2\n",
    "        else:\n",
    "            movementIndices = np.where(stimulus3 == (m - 27))[0]\n",
    "            repetitions = consecutive(movementIndices)\n",
    "            EMG = EMGdf3\n",
    "\n",
    "        Electrodes = {}\n",
    "        for e in range(1, 11):\n",
    "            temp = {}\n",
    "            for r in range(1, 7):\n",
    "                startIndex = repetitions[r - 1][0]\n",
    "                LastIndex = repetitions[r - 1][len(repetitions[r - 1]) - 1]\n",
    "                df = EMG.iloc[startIndex:LastIndex, e - 1]\n",
    "                df.reset_index(drop=True, inplace=True)\n",
    "                narray = df.to_numpy(dtype=None, copy=False)\n",
    "                temp[\"R{0}\".format(r)] = narray\n",
    "            Electrodes[\"Electrode{0}\".format(e)] = temp\n",
    "        Movements[\"Movement{0}\".format(m)] = Electrodes\n",
    "    return Movements\n"
   ]
  },
  {
   "cell_type": "code",
   "execution_count": 48,
   "metadata": {},
   "outputs": [
    {
     "name": "stdout",
     "output_type": "stream",
     "text": [
      "DB1/S1/S1_A1_E1.mat\n"
     ]
    }
   ],
   "source": [
    "final_df = pd.DataFrame(columns={'RMS1', 'MAV1', 'VAR1', 'WL1', 'IAV1',\n",
    "                                 'RMS2', 'MAV2', 'VAR2', 'WL2', 'IAV2',\n",
    "                                 'RMS3', 'MAV3', 'VAR3', 'WL3', 'IAV3',\n",
    "                                 'RMS4', 'MAV4', 'VAR4', 'WL4', 'IAV4',\n",
    "                                 'RMS5', 'MAV5', 'VAR5', 'WL5', 'IAV5',\n",
    "                                 'RMS6', 'MAV6', 'VAR6', 'WL6', 'IAV6',\n",
    "                                 'RMS7', 'MAV7', 'VAR7', 'WL7', 'IAV7',\n",
    "                                 'RMS8', 'MAV8', 'VAR8', 'WL8', 'IAV8',\n",
    "                                 'RMS9', 'MAV9', 'VAR9', 'WL9', 'IAV9',\n",
    "                                 'RMS10', 'MAV10', 'VAR10', 'WL10', 'IAV10',\n",
    "                                 'Train'})\n",
    "# for s in (1,2,3,4,5,7,9,11,12,13,16,17,18,19,21,23,24,25,26,27):\n",
    "for s in range(1,28):\n",
    "    subject = 'S' + str(s)\n",
    "    dff = pd.DataFrame.from_dict(extractSubject(subject))\n",
    "    df = pd.DataFrame(columns={'RMS1', 'MAV1', 'VAR1', 'WL1', 'IAV1',\n",
    "                           'RMS2', 'MAV2', 'VAR2', 'WL2', 'IAV2',\n",
    "                           'RMS3', 'MAV3', 'VAR3', 'WL3', 'IAV3',\n",
    "                           'RMS4', 'MAV4', 'VAR4', 'WL4', 'IAV4',\n",
    "                           'RMS5', 'MAV5', 'VAR5', 'WL5', 'IAV5',\n",
    "                           'RMS6', 'MAV6', 'VAR6', 'WL6', 'IAV6',\n",
    "                           'RMS7', 'MAV7', 'VAR7', 'WL7', 'IAV7',\n",
    "                           'RMS8', 'MAV8', 'VAR8', 'WL8', 'IAV8',\n",
    "                           'RMS9', 'MAV9', 'VAR9', 'WL9', 'IAV9',\n",
    "                           'RMS10', 'MAV10', 'VAR10', 'WL10', 'IAV10',\n",
    "                           'Train'})\n",
    "    for e in range(1, 11):\n",
    "        electrode = 'Electrode' + str(e)\n",
    "        i=0\n",
    "        for m in range(1,51):\n",
    "            M = dff['Movement'+str(m)][electrode]\n",
    "            for r in range(1, 7):\n",
    "                rep = \"R\" + str(r)\n",
    "                if (r in [1, 3, 4, 6]):\n",
    "                    train = 1\n",
    "                else:\n",
    "                    train = 0\n",
    "                for x in range(0, len(M[rep]), 48):\n",
    "                    df.at[i, 'RMS' + str(e)] = rms(M[rep][x:x + 50])\n",
    "                    df.at[i, 'MAV' + str(e)] = mav(M[rep][x:x + 50])\n",
    "                    df.at[i, 'VAR' + str(e)] = var(M[rep][x:x + 50])\n",
    "                    df.at[i, 'WL' + str(e)] = wl(M[rep][x:x + 50])\n",
    "                    df.at[i, 'IAV' + str(e)] = iav(M[rep][x:x + 50])\n",
    "                    df.at[i, 'Train'] = train\n",
    "                    df.at[i, 'Movement'] = m\n",
    "                    i += 1\n",
    "    final_df = final_df.append(df, ignore_index=True)"
   ]
  },
  {
   "cell_type": "code",
   "execution_count": 15,
   "metadata": {},
   "outputs": [
    {
     "name": "stdout",
     "output_type": "stream",
     "text": [
      "          WL1      VAR5      VAR4    IAV5      RMS3    WL10      MAV1  \\\n",
      "0      0.2393  0.000006  0.000006  0.1225  0.037247  0.0712  0.035304   \n",
      "1      0.2317  0.000039  0.000741  0.2354  0.168209  0.0807  0.047464   \n",
      "2      0.1807  0.000014  0.000132  0.1595  0.066921  0.0785  0.035106   \n",
      "3      0.1883  0.000007  0.000006  0.1275  0.004432  0.0296  0.024712   \n",
      "4      0.2173  0.000006  0.000006  0.1225  0.007116  0.0715  0.028658   \n",
      "...       ...       ...       ...     ...       ...     ...       ...   \n",
      "67257  1.6845  0.011239  0.073169  5.2245   0.82492  0.1759  1.239554   \n",
      "67258  1.7429  0.010967  0.041251  4.8902  0.833746  0.1194  0.918314   \n",
      "67259  2.2462  0.000035  0.000774  0.2539  0.172833  0.1511  0.999562   \n",
      "67260  1.3621   0.00002  0.000014    0.22  0.027727  0.2882  0.311088   \n",
      "67261  0.4224  0.000019  0.000016  0.0806  0.195868  0.0439  0.292584   \n",
      "\n",
      "           VAR2      VAR9      MAV5  ...     WL3     IAV4      RMS5      MAV4  \\\n",
      "0      0.006193  0.003617   0.00245  ...  0.1859   0.1225  0.002475   0.00245   \n",
      "1      0.008398  0.004648  0.004708  ...  0.6764    1.211  0.006211   0.02422   \n",
      "2      0.000206  0.001117   0.00319  ...  0.3594   0.3601  0.003699  0.007202   \n",
      "3      0.000006   0.00039   0.00255  ...  0.0715     0.12  0.002618    0.0024   \n",
      "4      0.000006  0.001775   0.00245  ...  0.1078   0.1225  0.002475   0.00245   \n",
      "...         ...       ...       ...  ...     ...      ...       ...       ...   \n",
      "67257  1.104216  0.023189   0.10449  ...  1.9676  12.8397  0.106015  0.256794   \n",
      "67258  0.530534  0.025343  0.097804  ...  2.4266   9.6581  0.104722  0.193162   \n",
      "67259  0.005447  0.022998  0.005078  ...  0.7525   0.8421  0.005943  0.016842   \n",
      "67260  0.000013   0.12634    0.0044  ...  0.1744   0.1775  0.004512   0.00355   \n",
      "67261  0.000061  0.009879  0.004242  ...  0.5125   0.0731  0.004383  0.003847   \n",
      "\n",
      "           MAV9     WL4      VAR7      VAR1      RMS1 Movement  \n",
      "0      0.040366  0.0025  0.013052  0.001473   0.03838      1.0  \n",
      "1      0.050976  0.1954  0.097035  0.002478  0.049779      1.0  \n",
      "2      0.020582  0.0734  0.072732  0.001334   0.03652      1.0  \n",
      "3       0.01032     0.0  0.000487  0.000717  0.026781      1.0  \n",
      "4      0.026496  0.0025  0.002658  0.000952   0.03086      1.0  \n",
      "...         ...     ...       ...       ...       ...      ...  \n",
      "67257  0.151864    0.75  0.255076   1.54298  1.242167     50.0  \n",
      "67258   0.15894   0.669  0.092289    0.8728  0.934237     50.0  \n",
      "67259  0.151368  0.1472  0.023783  1.069041  1.033944     50.0  \n",
      "67260  0.319344  0.0575  0.064274  0.106281  0.326008     50.0  \n",
      "67261  0.099074  0.0175  0.001504  0.087739  0.296207     50.0  \n",
      "\n",
      "[67262 rows x 52 columns]\n"
     ]
    }
   ],
   "source": [
    "features = {'RMS1', 'MAV1', 'VAR1', 'WL1', 'IAV1',\n",
    "            'RMS2', 'MAV2', 'VAR2', 'WL2', 'IAV2',\n",
    "            'RMS3', 'MAV3', 'VAR3', 'WL3', 'IAV3',\n",
    "            'RMS4', 'MAV4', 'VAR4', 'WL4', 'IAV4',\n",
    "            'RMS5', 'MAV5', 'VAR5', 'WL5', 'IAV5',\n",
    "            'RMS6', 'MAV6', 'VAR6', 'WL6', 'IAV6',\n",
    "            'RMS7', 'MAV7', 'VAR7', 'WL7', 'IAV7',\n",
    "            'RMS8', 'MAV8', 'VAR8', 'WL8', 'IAV8',\n",
    "            'RMS9', 'MAV9', 'VAR9', 'WL9', 'IAV9',\n",
    "            'RMS10', 'MAV10', 'VAR10', 'WL10', 'IAV10', }\n",
    "\n",
    "\n",
    "print(final_df)"
   ]
  },
  {
   "cell_type": "code",
   "execution_count": 45,
   "metadata": {},
   "outputs": [],
   "source": [
    "X_train = final_df[final_df['Train'] == 1].loc[:, features]\n",
    "scalar =  StandardScaler()\n",
    "scalar = scalar.fit(X_train)\n",
    "X_train = scalar.transform(X_train)\n",
    "X_test = final_df[final_df['Train'] == 0].loc[:, features]\n",
    "X_test = scalar.transform(X_test)\n",
    "\n",
    "y_train = final_df[final_df['Train'] == 1].loc[:, {'Movement'}]\n",
    "y_test = final_df[final_df['Train'] == 0].loc[:, {'Movement'}]\n",
    "y_train = np.asarray(y_train).astype('float64')\n",
    "y_test = np.asarray(y_test).astype('float64')\n",
    "\n"
   ]
  },
  {
   "cell_type": "code",
   "execution_count": 46,
   "metadata": {},
   "outputs": [
    {
     "name": "stdout",
     "output_type": "stream",
     "text": [
      "[[ 1.]\n",
      " [ 1.]\n",
      " [ 1.]\n",
      " ...\n",
      " [50.]\n",
      " [50.]\n",
      " [50.]]\n",
      "Epoch 1/1000\n",
      "   1/1397 [..............................] - ETA: 4:38 - loss: 4.1722"
     ]
    },
    {
     "name": "stderr",
     "output_type": "stream",
     "text": [
      "2022-05-25 23:05:14.592892: W tensorflow/core/framework/op_kernel.cc:1745] OP_REQUIRES failed at sparse_xent_op.cc:103 : INVALID_ARGUMENT: Received a label value of 50 which is outside the valid range of [0, 50).  Label values: 40 18 7 18 36 27 37 27 37 50 11 11 13 49 22 25 10 45 6 19 1 39 47 19 28 7 47 45 15 50 35 16\n"
     ]
    },
    {
     "ename": "InvalidArgumentError",
     "evalue": "Graph execution error:\n\nDetected at node 'sparse_categorical_crossentropy/SparseSoftmaxCrossEntropyWithLogits/SparseSoftmaxCrossEntropyWithLogits' defined at (most recent call last):\n    File \"/Users/alaaabdelazeem/miniforge3/envs/tensorflow/lib/python3.8/runpy.py\", line 194, in _run_module_as_main\n      return _run_code(code, main_globals, None,\n    File \"/Users/alaaabdelazeem/miniforge3/envs/tensorflow/lib/python3.8/runpy.py\", line 87, in _run_code\n      exec(code, run_globals)\n    File \"/Users/alaaabdelazeem/miniforge3/envs/tensorflow/lib/python3.8/site-packages/ipykernel_launcher.py\", line 16, in <module>\n      app.launch_new_instance()\n    File \"/Users/alaaabdelazeem/miniforge3/envs/tensorflow/lib/python3.8/site-packages/traitlets/config/application.py\", line 846, in launch_instance\n      app.start()\n    File \"/Users/alaaabdelazeem/miniforge3/envs/tensorflow/lib/python3.8/site-packages/ipykernel/kernelapp.py\", line 677, in start\n      self.io_loop.start()\n    File \"/Users/alaaabdelazeem/miniforge3/envs/tensorflow/lib/python3.8/site-packages/tornado/platform/asyncio.py\", line 199, in start\n      self.asyncio_loop.run_forever()\n    File \"/Users/alaaabdelazeem/miniforge3/envs/tensorflow/lib/python3.8/asyncio/base_events.py\", line 570, in run_forever\n      self._run_once()\n    File \"/Users/alaaabdelazeem/miniforge3/envs/tensorflow/lib/python3.8/asyncio/base_events.py\", line 1859, in _run_once\n      handle._run()\n    File \"/Users/alaaabdelazeem/miniforge3/envs/tensorflow/lib/python3.8/asyncio/events.py\", line 81, in _run\n      self._context.run(self._callback, *self._args)\n    File \"/Users/alaaabdelazeem/miniforge3/envs/tensorflow/lib/python3.8/site-packages/ipykernel/kernelbase.py\", line 471, in dispatch_queue\n      await self.process_one()\n    File \"/Users/alaaabdelazeem/miniforge3/envs/tensorflow/lib/python3.8/site-packages/ipykernel/kernelbase.py\", line 460, in process_one\n      await dispatch(*args)\n    File \"/Users/alaaabdelazeem/miniforge3/envs/tensorflow/lib/python3.8/site-packages/ipykernel/kernelbase.py\", line 367, in dispatch_shell\n      await result\n    File \"/Users/alaaabdelazeem/miniforge3/envs/tensorflow/lib/python3.8/site-packages/ipykernel/kernelbase.py\", line 662, in execute_request\n      reply_content = await reply_content\n    File \"/Users/alaaabdelazeem/miniforge3/envs/tensorflow/lib/python3.8/site-packages/ipykernel/ipkernel.py\", line 360, in do_execute\n      res = shell.run_cell(code, store_history=store_history, silent=silent)\n    File \"/Users/alaaabdelazeem/miniforge3/envs/tensorflow/lib/python3.8/site-packages/ipykernel/zmqshell.py\", line 532, in run_cell\n      return super().run_cell(*args, **kwargs)\n    File \"/Users/alaaabdelazeem/miniforge3/envs/tensorflow/lib/python3.8/site-packages/IPython/core/interactiveshell.py\", line 2880, in run_cell\n      result = self._run_cell(\n    File \"/Users/alaaabdelazeem/miniforge3/envs/tensorflow/lib/python3.8/site-packages/IPython/core/interactiveshell.py\", line 2935, in _run_cell\n      return runner(coro)\n    File \"/Users/alaaabdelazeem/miniforge3/envs/tensorflow/lib/python3.8/site-packages/IPython/core/async_helpers.py\", line 129, in _pseudo_sync_runner\n      coro.send(None)\n    File \"/Users/alaaabdelazeem/miniforge3/envs/tensorflow/lib/python3.8/site-packages/IPython/core/interactiveshell.py\", line 3134, in run_cell_async\n      has_raised = await self.run_ast_nodes(code_ast.body, cell_name,\n    File \"/Users/alaaabdelazeem/miniforge3/envs/tensorflow/lib/python3.8/site-packages/IPython/core/interactiveshell.py\", line 3337, in run_ast_nodes\n      if await self.run_code(code, result, async_=asy):\n    File \"/Users/alaaabdelazeem/miniforge3/envs/tensorflow/lib/python3.8/site-packages/IPython/core/interactiveshell.py\", line 3397, in run_code\n      exec(code_obj, self.user_global_ns, self.user_ns)\n    File \"/var/folders/46/hsbxplj52vzglgl5v7brpmh00000gn/T/ipykernel_13535/2256074603.py\", line 8, in <cell line: 8>\n      model.fit(X_train, y_train, epochs=1000)\n    File \"/Users/alaaabdelazeem/miniforge3/envs/tensorflow/lib/python3.8/site-packages/keras/utils/traceback_utils.py\", line 64, in error_handler\n      return fn(*args, **kwargs)\n    File \"/Users/alaaabdelazeem/miniforge3/envs/tensorflow/lib/python3.8/site-packages/keras/engine/training.py\", line 1384, in fit\n      tmp_logs = self.train_function(iterator)\n    File \"/Users/alaaabdelazeem/miniforge3/envs/tensorflow/lib/python3.8/site-packages/keras/engine/training.py\", line 1021, in train_function\n      return step_function(self, iterator)\n    File \"/Users/alaaabdelazeem/miniforge3/envs/tensorflow/lib/python3.8/site-packages/keras/engine/training.py\", line 1010, in step_function\n      outputs = model.distribute_strategy.run(run_step, args=(data,))\n    File \"/Users/alaaabdelazeem/miniforge3/envs/tensorflow/lib/python3.8/site-packages/keras/engine/training.py\", line 1000, in run_step\n      outputs = model.train_step(data)\n    File \"/Users/alaaabdelazeem/miniforge3/envs/tensorflow/lib/python3.8/site-packages/keras/engine/training.py\", line 860, in train_step\n      loss = self.compute_loss(x, y, y_pred, sample_weight)\n    File \"/Users/alaaabdelazeem/miniforge3/envs/tensorflow/lib/python3.8/site-packages/keras/engine/training.py\", line 918, in compute_loss\n      return self.compiled_loss(\n    File \"/Users/alaaabdelazeem/miniforge3/envs/tensorflow/lib/python3.8/site-packages/keras/engine/compile_utils.py\", line 201, in __call__\n      loss_value = loss_obj(y_t, y_p, sample_weight=sw)\n    File \"/Users/alaaabdelazeem/miniforge3/envs/tensorflow/lib/python3.8/site-packages/keras/losses.py\", line 141, in __call__\n      losses = call_fn(y_true, y_pred)\n    File \"/Users/alaaabdelazeem/miniforge3/envs/tensorflow/lib/python3.8/site-packages/keras/losses.py\", line 245, in call\n      return ag_fn(y_true, y_pred, **self._fn_kwargs)\n    File \"/Users/alaaabdelazeem/miniforge3/envs/tensorflow/lib/python3.8/site-packages/keras/losses.py\", line 1862, in sparse_categorical_crossentropy\n      return backend.sparse_categorical_crossentropy(\n    File \"/Users/alaaabdelazeem/miniforge3/envs/tensorflow/lib/python3.8/site-packages/keras/backend.py\", line 5202, in sparse_categorical_crossentropy\n      res = tf.nn.sparse_softmax_cross_entropy_with_logits(\nNode: 'sparse_categorical_crossentropy/SparseSoftmaxCrossEntropyWithLogits/SparseSoftmaxCrossEntropyWithLogits'\nReceived a label value of 50 which is outside the valid range of [0, 50).  Label values: 40 18 7 18 36 27 37 27 37 50 11 11 13 49 22 25 10 45 6 19 1 39 47 19 28 7 47 45 15 50 35 16\n\t [[{{node sparse_categorical_crossentropy/SparseSoftmaxCrossEntropyWithLogits/SparseSoftmaxCrossEntropyWithLogits}}]] [Op:__inference_train_function_9734937]",
     "output_type": "error",
     "traceback": [
      "\u001b[0;31m---------------------------------------------------------------------------\u001b[0m",
      "\u001b[0;31mInvalidArgumentError\u001b[0m                      Traceback (most recent call last)",
      "\u001b[1;32m/Users/alaaabdelazeem/Desktop/Bachelor/Bachelor_Identify-Moevements-EMG/MaleFemale.ipynb Cell 6'\u001b[0m in \u001b[0;36m<cell line: 8>\u001b[0;34m()\u001b[0m\n\u001b[1;32m      <a href='vscode-notebook-cell:/Users/alaaabdelazeem/Desktop/Bachelor/Bachelor_Identify-Moevements-EMG/MaleFemale.ipynb#ch0000006?line=5'>6</a>\u001b[0m model \u001b[39m=\u001b[39m Model(\u001b[39minput\u001b[39m, ouput)\n\u001b[1;32m      <a href='vscode-notebook-cell:/Users/alaaabdelazeem/Desktop/Bachelor/Bachelor_Identify-Moevements-EMG/MaleFemale.ipynb#ch0000006?line=6'>7</a>\u001b[0m model\u001b[39m.\u001b[39mcompile(loss\u001b[39m=\u001b[39m\u001b[39m'\u001b[39m\u001b[39msparse_categorical_crossentropy\u001b[39m\u001b[39m'\u001b[39m, optimizer\u001b[39m=\u001b[39m\u001b[39m'\u001b[39m\u001b[39madam\u001b[39m\u001b[39m'\u001b[39m)\n\u001b[0;32m----> <a href='vscode-notebook-cell:/Users/alaaabdelazeem/Desktop/Bachelor/Bachelor_Identify-Moevements-EMG/MaleFemale.ipynb#ch0000006?line=7'>8</a>\u001b[0m model\u001b[39m.\u001b[39;49mfit(X_train, y_train, epochs\u001b[39m=\u001b[39;49m\u001b[39m1000\u001b[39;49m)\n\u001b[1;32m      <a href='vscode-notebook-cell:/Users/alaaabdelazeem/Desktop/Bachelor/Bachelor_Identify-Moevements-EMG/MaleFemale.ipynb#ch0000006?line=8'>9</a>\u001b[0m \u001b[39mprint\u001b[39m(model\u001b[39m.\u001b[39mevaluate(X_test, y_test))\n\u001b[1;32m     <a href='vscode-notebook-cell:/Users/alaaabdelazeem/Desktop/Bachelor/Bachelor_Identify-Moevements-EMG/MaleFemale.ipynb#ch0000006?line=9'>10</a>\u001b[0m predictions \u001b[39m=\u001b[39m model\u001b[39m.\u001b[39mpredict(X_test)\n",
      "File \u001b[0;32m~/miniforge3/envs/tensorflow/lib/python3.8/site-packages/keras/utils/traceback_utils.py:67\u001b[0m, in \u001b[0;36mfilter_traceback.<locals>.error_handler\u001b[0;34m(*args, **kwargs)\u001b[0m\n\u001b[1;32m     <a href='file:///Users/alaaabdelazeem/miniforge3/envs/tensorflow/lib/python3.8/site-packages/keras/utils/traceback_utils.py?line=64'>65</a>\u001b[0m \u001b[39mexcept\u001b[39;00m \u001b[39mException\u001b[39;00m \u001b[39mas\u001b[39;00m e:  \u001b[39m# pylint: disable=broad-except\u001b[39;00m\n\u001b[1;32m     <a href='file:///Users/alaaabdelazeem/miniforge3/envs/tensorflow/lib/python3.8/site-packages/keras/utils/traceback_utils.py?line=65'>66</a>\u001b[0m   filtered_tb \u001b[39m=\u001b[39m _process_traceback_frames(e\u001b[39m.\u001b[39m__traceback__)\n\u001b[0;32m---> <a href='file:///Users/alaaabdelazeem/miniforge3/envs/tensorflow/lib/python3.8/site-packages/keras/utils/traceback_utils.py?line=66'>67</a>\u001b[0m   \u001b[39mraise\u001b[39;00m e\u001b[39m.\u001b[39mwith_traceback(filtered_tb) \u001b[39mfrom\u001b[39;00m \u001b[39mNone\u001b[39m\n\u001b[1;32m     <a href='file:///Users/alaaabdelazeem/miniforge3/envs/tensorflow/lib/python3.8/site-packages/keras/utils/traceback_utils.py?line=67'>68</a>\u001b[0m \u001b[39mfinally\u001b[39;00m:\n\u001b[1;32m     <a href='file:///Users/alaaabdelazeem/miniforge3/envs/tensorflow/lib/python3.8/site-packages/keras/utils/traceback_utils.py?line=68'>69</a>\u001b[0m   \u001b[39mdel\u001b[39;00m filtered_tb\n",
      "File \u001b[0;32m~/miniforge3/envs/tensorflow/lib/python3.8/site-packages/tensorflow/python/eager/execute.py:54\u001b[0m, in \u001b[0;36mquick_execute\u001b[0;34m(op_name, num_outputs, inputs, attrs, ctx, name)\u001b[0m\n\u001b[1;32m     <a href='file:///Users/alaaabdelazeem/miniforge3/envs/tensorflow/lib/python3.8/site-packages/tensorflow/python/eager/execute.py?line=51'>52</a>\u001b[0m \u001b[39mtry\u001b[39;00m:\n\u001b[1;32m     <a href='file:///Users/alaaabdelazeem/miniforge3/envs/tensorflow/lib/python3.8/site-packages/tensorflow/python/eager/execute.py?line=52'>53</a>\u001b[0m   ctx\u001b[39m.\u001b[39mensure_initialized()\n\u001b[0;32m---> <a href='file:///Users/alaaabdelazeem/miniforge3/envs/tensorflow/lib/python3.8/site-packages/tensorflow/python/eager/execute.py?line=53'>54</a>\u001b[0m   tensors \u001b[39m=\u001b[39m pywrap_tfe\u001b[39m.\u001b[39mTFE_Py_Execute(ctx\u001b[39m.\u001b[39m_handle, device_name, op_name,\n\u001b[1;32m     <a href='file:///Users/alaaabdelazeem/miniforge3/envs/tensorflow/lib/python3.8/site-packages/tensorflow/python/eager/execute.py?line=54'>55</a>\u001b[0m                                       inputs, attrs, num_outputs)\n\u001b[1;32m     <a href='file:///Users/alaaabdelazeem/miniforge3/envs/tensorflow/lib/python3.8/site-packages/tensorflow/python/eager/execute.py?line=55'>56</a>\u001b[0m \u001b[39mexcept\u001b[39;00m core\u001b[39m.\u001b[39m_NotOkStatusException \u001b[39mas\u001b[39;00m e:\n\u001b[1;32m     <a href='file:///Users/alaaabdelazeem/miniforge3/envs/tensorflow/lib/python3.8/site-packages/tensorflow/python/eager/execute.py?line=56'>57</a>\u001b[0m   \u001b[39mif\u001b[39;00m name \u001b[39mis\u001b[39;00m \u001b[39mnot\u001b[39;00m \u001b[39mNone\u001b[39;00m:\n",
      "\u001b[0;31mInvalidArgumentError\u001b[0m: Graph execution error:\n\nDetected at node 'sparse_categorical_crossentropy/SparseSoftmaxCrossEntropyWithLogits/SparseSoftmaxCrossEntropyWithLogits' defined at (most recent call last):\n    File \"/Users/alaaabdelazeem/miniforge3/envs/tensorflow/lib/python3.8/runpy.py\", line 194, in _run_module_as_main\n      return _run_code(code, main_globals, None,\n    File \"/Users/alaaabdelazeem/miniforge3/envs/tensorflow/lib/python3.8/runpy.py\", line 87, in _run_code\n      exec(code, run_globals)\n    File \"/Users/alaaabdelazeem/miniforge3/envs/tensorflow/lib/python3.8/site-packages/ipykernel_launcher.py\", line 16, in <module>\n      app.launch_new_instance()\n    File \"/Users/alaaabdelazeem/miniforge3/envs/tensorflow/lib/python3.8/site-packages/traitlets/config/application.py\", line 846, in launch_instance\n      app.start()\n    File \"/Users/alaaabdelazeem/miniforge3/envs/tensorflow/lib/python3.8/site-packages/ipykernel/kernelapp.py\", line 677, in start\n      self.io_loop.start()\n    File \"/Users/alaaabdelazeem/miniforge3/envs/tensorflow/lib/python3.8/site-packages/tornado/platform/asyncio.py\", line 199, in start\n      self.asyncio_loop.run_forever()\n    File \"/Users/alaaabdelazeem/miniforge3/envs/tensorflow/lib/python3.8/asyncio/base_events.py\", line 570, in run_forever\n      self._run_once()\n    File \"/Users/alaaabdelazeem/miniforge3/envs/tensorflow/lib/python3.8/asyncio/base_events.py\", line 1859, in _run_once\n      handle._run()\n    File \"/Users/alaaabdelazeem/miniforge3/envs/tensorflow/lib/python3.8/asyncio/events.py\", line 81, in _run\n      self._context.run(self._callback, *self._args)\n    File \"/Users/alaaabdelazeem/miniforge3/envs/tensorflow/lib/python3.8/site-packages/ipykernel/kernelbase.py\", line 471, in dispatch_queue\n      await self.process_one()\n    File \"/Users/alaaabdelazeem/miniforge3/envs/tensorflow/lib/python3.8/site-packages/ipykernel/kernelbase.py\", line 460, in process_one\n      await dispatch(*args)\n    File \"/Users/alaaabdelazeem/miniforge3/envs/tensorflow/lib/python3.8/site-packages/ipykernel/kernelbase.py\", line 367, in dispatch_shell\n      await result\n    File \"/Users/alaaabdelazeem/miniforge3/envs/tensorflow/lib/python3.8/site-packages/ipykernel/kernelbase.py\", line 662, in execute_request\n      reply_content = await reply_content\n    File \"/Users/alaaabdelazeem/miniforge3/envs/tensorflow/lib/python3.8/site-packages/ipykernel/ipkernel.py\", line 360, in do_execute\n      res = shell.run_cell(code, store_history=store_history, silent=silent)\n    File \"/Users/alaaabdelazeem/miniforge3/envs/tensorflow/lib/python3.8/site-packages/ipykernel/zmqshell.py\", line 532, in run_cell\n      return super().run_cell(*args, **kwargs)\n    File \"/Users/alaaabdelazeem/miniforge3/envs/tensorflow/lib/python3.8/site-packages/IPython/core/interactiveshell.py\", line 2880, in run_cell\n      result = self._run_cell(\n    File \"/Users/alaaabdelazeem/miniforge3/envs/tensorflow/lib/python3.8/site-packages/IPython/core/interactiveshell.py\", line 2935, in _run_cell\n      return runner(coro)\n    File \"/Users/alaaabdelazeem/miniforge3/envs/tensorflow/lib/python3.8/site-packages/IPython/core/async_helpers.py\", line 129, in _pseudo_sync_runner\n      coro.send(None)\n    File \"/Users/alaaabdelazeem/miniforge3/envs/tensorflow/lib/python3.8/site-packages/IPython/core/interactiveshell.py\", line 3134, in run_cell_async\n      has_raised = await self.run_ast_nodes(code_ast.body, cell_name,\n    File \"/Users/alaaabdelazeem/miniforge3/envs/tensorflow/lib/python3.8/site-packages/IPython/core/interactiveshell.py\", line 3337, in run_ast_nodes\n      if await self.run_code(code, result, async_=asy):\n    File \"/Users/alaaabdelazeem/miniforge3/envs/tensorflow/lib/python3.8/site-packages/IPython/core/interactiveshell.py\", line 3397, in run_code\n      exec(code_obj, self.user_global_ns, self.user_ns)\n    File \"/var/folders/46/hsbxplj52vzglgl5v7brpmh00000gn/T/ipykernel_13535/2256074603.py\", line 8, in <cell line: 8>\n      model.fit(X_train, y_train, epochs=1000)\n    File \"/Users/alaaabdelazeem/miniforge3/envs/tensorflow/lib/python3.8/site-packages/keras/utils/traceback_utils.py\", line 64, in error_handler\n      return fn(*args, **kwargs)\n    File \"/Users/alaaabdelazeem/miniforge3/envs/tensorflow/lib/python3.8/site-packages/keras/engine/training.py\", line 1384, in fit\n      tmp_logs = self.train_function(iterator)\n    File \"/Users/alaaabdelazeem/miniforge3/envs/tensorflow/lib/python3.8/site-packages/keras/engine/training.py\", line 1021, in train_function\n      return step_function(self, iterator)\n    File \"/Users/alaaabdelazeem/miniforge3/envs/tensorflow/lib/python3.8/site-packages/keras/engine/training.py\", line 1010, in step_function\n      outputs = model.distribute_strategy.run(run_step, args=(data,))\n    File \"/Users/alaaabdelazeem/miniforge3/envs/tensorflow/lib/python3.8/site-packages/keras/engine/training.py\", line 1000, in run_step\n      outputs = model.train_step(data)\n    File \"/Users/alaaabdelazeem/miniforge3/envs/tensorflow/lib/python3.8/site-packages/keras/engine/training.py\", line 860, in train_step\n      loss = self.compute_loss(x, y, y_pred, sample_weight)\n    File \"/Users/alaaabdelazeem/miniforge3/envs/tensorflow/lib/python3.8/site-packages/keras/engine/training.py\", line 918, in compute_loss\n      return self.compiled_loss(\n    File \"/Users/alaaabdelazeem/miniforge3/envs/tensorflow/lib/python3.8/site-packages/keras/engine/compile_utils.py\", line 201, in __call__\n      loss_value = loss_obj(y_t, y_p, sample_weight=sw)\n    File \"/Users/alaaabdelazeem/miniforge3/envs/tensorflow/lib/python3.8/site-packages/keras/losses.py\", line 141, in __call__\n      losses = call_fn(y_true, y_pred)\n    File \"/Users/alaaabdelazeem/miniforge3/envs/tensorflow/lib/python3.8/site-packages/keras/losses.py\", line 245, in call\n      return ag_fn(y_true, y_pred, **self._fn_kwargs)\n    File \"/Users/alaaabdelazeem/miniforge3/envs/tensorflow/lib/python3.8/site-packages/keras/losses.py\", line 1862, in sparse_categorical_crossentropy\n      return backend.sparse_categorical_crossentropy(\n    File \"/Users/alaaabdelazeem/miniforge3/envs/tensorflow/lib/python3.8/site-packages/keras/backend.py\", line 5202, in sparse_categorical_crossentropy\n      res = tf.nn.sparse_softmax_cross_entropy_with_logits(\nNode: 'sparse_categorical_crossentropy/SparseSoftmaxCrossEntropyWithLogits/SparseSoftmaxCrossEntropyWithLogits'\nReceived a label value of 50 which is outside the valid range of [0, 50).  Label values: 40 18 7 18 36 27 37 27 37 50 11 11 13 49 22 25 10 45 6 19 1 39 47 19 28 7 47 45 15 50 35 16\n\t [[{{node sparse_categorical_crossentropy/SparseSoftmaxCrossEntropyWithLogits/SparseSoftmaxCrossEntropyWithLogits}}]] [Op:__inference_train_function_9734937]"
     ]
    }
   ],
   "source": [
    "\n",
    "print(y_train)\n",
    "input = Input(shape =(50,))\n",
    "L1 = Dense(500, activation='tanh')(input)\n",
    "L2 = Dense(50, activation='sigmoid')(L1)\n",
    "ouput = Dense(50, activation='softmax')(L2)\n",
    "model = Model(input, ouput)\n",
    "model.compile(loss='sparse_categorical_crossentropy', optimizer='adam')\n",
    "model.fit(X_train, y_train, epochs=1000)\n",
    "print(model.evaluate(X_test, y_test))\n",
    "predictions = model.predict(X_test)"
   ]
  },
  {
   "cell_type": "code",
   "execution_count": 47,
   "metadata": {},
   "outputs": [
    {
     "name": "stdout",
     "output_type": "stream",
     "text": [
      "0\n",
      "()\n"
     ]
    },
    {
     "ename": "TypeError",
     "evalue": "Singleton array 0 cannot be considered a valid collection.",
     "output_type": "error",
     "traceback": [
      "\u001b[0;31m---------------------------------------------------------------------------\u001b[0m",
      "\u001b[0;31mTypeError\u001b[0m                                 Traceback (most recent call last)",
      "\u001b[1;32m/Users/alaaabdelazeem/Desktop/Bachelor/Bachelor_Identify-Moevements-EMG/MaleFemale.ipynb Cell 7'\u001b[0m in \u001b[0;36m<cell line: 5>\u001b[0;34m()\u001b[0m\n\u001b[1;32m      <a href='vscode-notebook-cell:/Users/alaaabdelazeem/Desktop/Bachelor/Bachelor_Identify-Moevements-EMG/MaleFemale.ipynb#ch0000009?line=2'>3</a>\u001b[0m predictions \u001b[39m=\u001b[39m argmax(predictions, axis\u001b[39m=\u001b[39m\u001b[39m-\u001b[39m\u001b[39m1\u001b[39m)\u001b[39m.\u001b[39mastype(\u001b[39m'\u001b[39m\u001b[39mint\u001b[39m\u001b[39m'\u001b[39m)\n\u001b[1;32m      <a href='vscode-notebook-cell:/Users/alaaabdelazeem/Desktop/Bachelor/Bachelor_Identify-Moevements-EMG/MaleFemale.ipynb#ch0000009?line=3'>4</a>\u001b[0m \u001b[39mprint\u001b[39m(predictions\u001b[39m.\u001b[39mshape)\n\u001b[0;32m----> <a href='vscode-notebook-cell:/Users/alaaabdelazeem/Desktop/Bachelor/Bachelor_Identify-Moevements-EMG/MaleFemale.ipynb#ch0000009?line=4'>5</a>\u001b[0m acc \u001b[39m=\u001b[39m accuracy_score(y_test, predictions)\n\u001b[1;32m      <a href='vscode-notebook-cell:/Users/alaaabdelazeem/Desktop/Bachelor/Bachelor_Identify-Moevements-EMG/MaleFemale.ipynb#ch0000009?line=5'>6</a>\u001b[0m \u001b[39mprint\u001b[39m(\u001b[39m'\u001b[39m\u001b[39mAccuracy: \u001b[39m\u001b[39m%.3f\u001b[39;00m\u001b[39m'\u001b[39m \u001b[39m%\u001b[39m acc)\n",
      "File \u001b[0;32m~/miniforge3/envs/tensorflow/lib/python3.8/site-packages/sklearn/metrics/_classification.py:211\u001b[0m, in \u001b[0;36maccuracy_score\u001b[0;34m(y_true, y_pred, normalize, sample_weight)\u001b[0m\n\u001b[1;32m    <a href='file:///Users/alaaabdelazeem/miniforge3/envs/tensorflow/lib/python3.8/site-packages/sklearn/metrics/_classification.py?line=144'>145</a>\u001b[0m \u001b[39m\"\"\"Accuracy classification score.\u001b[39;00m\n\u001b[1;32m    <a href='file:///Users/alaaabdelazeem/miniforge3/envs/tensorflow/lib/python3.8/site-packages/sklearn/metrics/_classification.py?line=145'>146</a>\u001b[0m \n\u001b[1;32m    <a href='file:///Users/alaaabdelazeem/miniforge3/envs/tensorflow/lib/python3.8/site-packages/sklearn/metrics/_classification.py?line=146'>147</a>\u001b[0m \u001b[39mIn multilabel classification, this function computes subset accuracy:\u001b[39;00m\n\u001b[0;32m   (...)\u001b[0m\n\u001b[1;32m    <a href='file:///Users/alaaabdelazeem/miniforge3/envs/tensorflow/lib/python3.8/site-packages/sklearn/metrics/_classification.py?line=206'>207</a>\u001b[0m \u001b[39m0.5\u001b[39;00m\n\u001b[1;32m    <a href='file:///Users/alaaabdelazeem/miniforge3/envs/tensorflow/lib/python3.8/site-packages/sklearn/metrics/_classification.py?line=207'>208</a>\u001b[0m \u001b[39m\"\"\"\u001b[39;00m\n\u001b[1;32m    <a href='file:///Users/alaaabdelazeem/miniforge3/envs/tensorflow/lib/python3.8/site-packages/sklearn/metrics/_classification.py?line=209'>210</a>\u001b[0m \u001b[39m# Compute accuracy for each possible representation\u001b[39;00m\n\u001b[0;32m--> <a href='file:///Users/alaaabdelazeem/miniforge3/envs/tensorflow/lib/python3.8/site-packages/sklearn/metrics/_classification.py?line=210'>211</a>\u001b[0m y_type, y_true, y_pred \u001b[39m=\u001b[39m _check_targets(y_true, y_pred)\n\u001b[1;32m    <a href='file:///Users/alaaabdelazeem/miniforge3/envs/tensorflow/lib/python3.8/site-packages/sklearn/metrics/_classification.py?line=211'>212</a>\u001b[0m check_consistent_length(y_true, y_pred, sample_weight)\n\u001b[1;32m    <a href='file:///Users/alaaabdelazeem/miniforge3/envs/tensorflow/lib/python3.8/site-packages/sklearn/metrics/_classification.py?line=212'>213</a>\u001b[0m \u001b[39mif\u001b[39;00m y_type\u001b[39m.\u001b[39mstartswith(\u001b[39m\"\u001b[39m\u001b[39mmultilabel\u001b[39m\u001b[39m\"\u001b[39m):\n",
      "File \u001b[0;32m~/miniforge3/envs/tensorflow/lib/python3.8/site-packages/sklearn/metrics/_classification.py:84\u001b[0m, in \u001b[0;36m_check_targets\u001b[0;34m(y_true, y_pred)\u001b[0m\n\u001b[1;32m     <a href='file:///Users/alaaabdelazeem/miniforge3/envs/tensorflow/lib/python3.8/site-packages/sklearn/metrics/_classification.py?line=56'>57</a>\u001b[0m \u001b[39mdef\u001b[39;00m \u001b[39m_check_targets\u001b[39m(y_true, y_pred):\n\u001b[1;32m     <a href='file:///Users/alaaabdelazeem/miniforge3/envs/tensorflow/lib/python3.8/site-packages/sklearn/metrics/_classification.py?line=57'>58</a>\u001b[0m     \u001b[39m\"\"\"Check that y_true and y_pred belong to the same classification task.\u001b[39;00m\n\u001b[1;32m     <a href='file:///Users/alaaabdelazeem/miniforge3/envs/tensorflow/lib/python3.8/site-packages/sklearn/metrics/_classification.py?line=58'>59</a>\u001b[0m \n\u001b[1;32m     <a href='file:///Users/alaaabdelazeem/miniforge3/envs/tensorflow/lib/python3.8/site-packages/sklearn/metrics/_classification.py?line=59'>60</a>\u001b[0m \u001b[39m    This converts multiclass or binary types to a common shape, and raises a\u001b[39;00m\n\u001b[0;32m   (...)\u001b[0m\n\u001b[1;32m     <a href='file:///Users/alaaabdelazeem/miniforge3/envs/tensorflow/lib/python3.8/site-packages/sklearn/metrics/_classification.py?line=81'>82</a>\u001b[0m \u001b[39m    y_pred : array or indicator matrix\u001b[39;00m\n\u001b[1;32m     <a href='file:///Users/alaaabdelazeem/miniforge3/envs/tensorflow/lib/python3.8/site-packages/sklearn/metrics/_classification.py?line=82'>83</a>\u001b[0m \u001b[39m    \"\"\"\u001b[39;00m\n\u001b[0;32m---> <a href='file:///Users/alaaabdelazeem/miniforge3/envs/tensorflow/lib/python3.8/site-packages/sklearn/metrics/_classification.py?line=83'>84</a>\u001b[0m     check_consistent_length(y_true, y_pred)\n\u001b[1;32m     <a href='file:///Users/alaaabdelazeem/miniforge3/envs/tensorflow/lib/python3.8/site-packages/sklearn/metrics/_classification.py?line=84'>85</a>\u001b[0m     type_true \u001b[39m=\u001b[39m type_of_target(y_true)\n\u001b[1;32m     <a href='file:///Users/alaaabdelazeem/miniforge3/envs/tensorflow/lib/python3.8/site-packages/sklearn/metrics/_classification.py?line=85'>86</a>\u001b[0m     type_pred \u001b[39m=\u001b[39m type_of_target(y_pred)\n",
      "File \u001b[0;32m~/miniforge3/envs/tensorflow/lib/python3.8/site-packages/sklearn/utils/validation.py:329\u001b[0m, in \u001b[0;36mcheck_consistent_length\u001b[0;34m(*arrays)\u001b[0m\n\u001b[1;32m    <a href='file:///Users/alaaabdelazeem/miniforge3/envs/tensorflow/lib/python3.8/site-packages/sklearn/utils/validation.py?line=317'>318</a>\u001b[0m \u001b[39mdef\u001b[39;00m \u001b[39mcheck_consistent_length\u001b[39m(\u001b[39m*\u001b[39marrays):\n\u001b[1;32m    <a href='file:///Users/alaaabdelazeem/miniforge3/envs/tensorflow/lib/python3.8/site-packages/sklearn/utils/validation.py?line=318'>319</a>\u001b[0m     \u001b[39m\"\"\"Check that all arrays have consistent first dimensions.\u001b[39;00m\n\u001b[1;32m    <a href='file:///Users/alaaabdelazeem/miniforge3/envs/tensorflow/lib/python3.8/site-packages/sklearn/utils/validation.py?line=319'>320</a>\u001b[0m \n\u001b[1;32m    <a href='file:///Users/alaaabdelazeem/miniforge3/envs/tensorflow/lib/python3.8/site-packages/sklearn/utils/validation.py?line=320'>321</a>\u001b[0m \u001b[39m    Checks whether all objects in arrays have the same shape or length.\u001b[39;00m\n\u001b[0;32m   (...)\u001b[0m\n\u001b[1;32m    <a href='file:///Users/alaaabdelazeem/miniforge3/envs/tensorflow/lib/python3.8/site-packages/sklearn/utils/validation.py?line=325'>326</a>\u001b[0m \u001b[39m        Objects that will be checked for consistent length.\u001b[39;00m\n\u001b[1;32m    <a href='file:///Users/alaaabdelazeem/miniforge3/envs/tensorflow/lib/python3.8/site-packages/sklearn/utils/validation.py?line=326'>327</a>\u001b[0m \u001b[39m    \"\"\"\u001b[39;00m\n\u001b[0;32m--> <a href='file:///Users/alaaabdelazeem/miniforge3/envs/tensorflow/lib/python3.8/site-packages/sklearn/utils/validation.py?line=328'>329</a>\u001b[0m     lengths \u001b[39m=\u001b[39m [_num_samples(X) \u001b[39mfor\u001b[39;00m X \u001b[39min\u001b[39;00m arrays \u001b[39mif\u001b[39;00m X \u001b[39mis\u001b[39;00m \u001b[39mnot\u001b[39;00m \u001b[39mNone\u001b[39;00m]\n\u001b[1;32m    <a href='file:///Users/alaaabdelazeem/miniforge3/envs/tensorflow/lib/python3.8/site-packages/sklearn/utils/validation.py?line=329'>330</a>\u001b[0m     uniques \u001b[39m=\u001b[39m np\u001b[39m.\u001b[39munique(lengths)\n\u001b[1;32m    <a href='file:///Users/alaaabdelazeem/miniforge3/envs/tensorflow/lib/python3.8/site-packages/sklearn/utils/validation.py?line=330'>331</a>\u001b[0m     \u001b[39mif\u001b[39;00m \u001b[39mlen\u001b[39m(uniques) \u001b[39m>\u001b[39m \u001b[39m1\u001b[39m:\n",
      "File \u001b[0;32m~/miniforge3/envs/tensorflow/lib/python3.8/site-packages/sklearn/utils/validation.py:329\u001b[0m, in \u001b[0;36m<listcomp>\u001b[0;34m(.0)\u001b[0m\n\u001b[1;32m    <a href='file:///Users/alaaabdelazeem/miniforge3/envs/tensorflow/lib/python3.8/site-packages/sklearn/utils/validation.py?line=317'>318</a>\u001b[0m \u001b[39mdef\u001b[39;00m \u001b[39mcheck_consistent_length\u001b[39m(\u001b[39m*\u001b[39marrays):\n\u001b[1;32m    <a href='file:///Users/alaaabdelazeem/miniforge3/envs/tensorflow/lib/python3.8/site-packages/sklearn/utils/validation.py?line=318'>319</a>\u001b[0m     \u001b[39m\"\"\"Check that all arrays have consistent first dimensions.\u001b[39;00m\n\u001b[1;32m    <a href='file:///Users/alaaabdelazeem/miniforge3/envs/tensorflow/lib/python3.8/site-packages/sklearn/utils/validation.py?line=319'>320</a>\u001b[0m \n\u001b[1;32m    <a href='file:///Users/alaaabdelazeem/miniforge3/envs/tensorflow/lib/python3.8/site-packages/sklearn/utils/validation.py?line=320'>321</a>\u001b[0m \u001b[39m    Checks whether all objects in arrays have the same shape or length.\u001b[39;00m\n\u001b[0;32m   (...)\u001b[0m\n\u001b[1;32m    <a href='file:///Users/alaaabdelazeem/miniforge3/envs/tensorflow/lib/python3.8/site-packages/sklearn/utils/validation.py?line=325'>326</a>\u001b[0m \u001b[39m        Objects that will be checked for consistent length.\u001b[39;00m\n\u001b[1;32m    <a href='file:///Users/alaaabdelazeem/miniforge3/envs/tensorflow/lib/python3.8/site-packages/sklearn/utils/validation.py?line=326'>327</a>\u001b[0m \u001b[39m    \"\"\"\u001b[39;00m\n\u001b[0;32m--> <a href='file:///Users/alaaabdelazeem/miniforge3/envs/tensorflow/lib/python3.8/site-packages/sklearn/utils/validation.py?line=328'>329</a>\u001b[0m     lengths \u001b[39m=\u001b[39m [_num_samples(X) \u001b[39mfor\u001b[39;00m X \u001b[39min\u001b[39;00m arrays \u001b[39mif\u001b[39;00m X \u001b[39mis\u001b[39;00m \u001b[39mnot\u001b[39;00m \u001b[39mNone\u001b[39;00m]\n\u001b[1;32m    <a href='file:///Users/alaaabdelazeem/miniforge3/envs/tensorflow/lib/python3.8/site-packages/sklearn/utils/validation.py?line=329'>330</a>\u001b[0m     uniques \u001b[39m=\u001b[39m np\u001b[39m.\u001b[39munique(lengths)\n\u001b[1;32m    <a href='file:///Users/alaaabdelazeem/miniforge3/envs/tensorflow/lib/python3.8/site-packages/sklearn/utils/validation.py?line=330'>331</a>\u001b[0m     \u001b[39mif\u001b[39;00m \u001b[39mlen\u001b[39m(uniques) \u001b[39m>\u001b[39m \u001b[39m1\u001b[39m:\n",
      "File \u001b[0;32m~/miniforge3/envs/tensorflow/lib/python3.8/site-packages/sklearn/utils/validation.py:269\u001b[0m, in \u001b[0;36m_num_samples\u001b[0;34m(x)\u001b[0m\n\u001b[1;32m    <a href='file:///Users/alaaabdelazeem/miniforge3/envs/tensorflow/lib/python3.8/site-packages/sklearn/utils/validation.py?line=266'>267</a>\u001b[0m \u001b[39mif\u001b[39;00m \u001b[39mhasattr\u001b[39m(x, \u001b[39m\"\u001b[39m\u001b[39mshape\u001b[39m\u001b[39m\"\u001b[39m) \u001b[39mand\u001b[39;00m x\u001b[39m.\u001b[39mshape \u001b[39mis\u001b[39;00m \u001b[39mnot\u001b[39;00m \u001b[39mNone\u001b[39;00m:\n\u001b[1;32m    <a href='file:///Users/alaaabdelazeem/miniforge3/envs/tensorflow/lib/python3.8/site-packages/sklearn/utils/validation.py?line=267'>268</a>\u001b[0m     \u001b[39mif\u001b[39;00m \u001b[39mlen\u001b[39m(x\u001b[39m.\u001b[39mshape) \u001b[39m==\u001b[39m \u001b[39m0\u001b[39m:\n\u001b[0;32m--> <a href='file:///Users/alaaabdelazeem/miniforge3/envs/tensorflow/lib/python3.8/site-packages/sklearn/utils/validation.py?line=268'>269</a>\u001b[0m         \u001b[39mraise\u001b[39;00m \u001b[39mTypeError\u001b[39;00m(\n\u001b[1;32m    <a href='file:///Users/alaaabdelazeem/miniforge3/envs/tensorflow/lib/python3.8/site-packages/sklearn/utils/validation.py?line=269'>270</a>\u001b[0m             \u001b[39m\"\u001b[39m\u001b[39mSingleton array \u001b[39m\u001b[39m%r\u001b[39;00m\u001b[39m cannot be considered a valid collection.\u001b[39m\u001b[39m\"\u001b[39m \u001b[39m%\u001b[39m x\n\u001b[1;32m    <a href='file:///Users/alaaabdelazeem/miniforge3/envs/tensorflow/lib/python3.8/site-packages/sklearn/utils/validation.py?line=270'>271</a>\u001b[0m         )\n\u001b[1;32m    <a href='file:///Users/alaaabdelazeem/miniforge3/envs/tensorflow/lib/python3.8/site-packages/sklearn/utils/validation.py?line=271'>272</a>\u001b[0m     \u001b[39m# Check that shape is returning an integer or default to len\u001b[39;00m\n\u001b[1;32m    <a href='file:///Users/alaaabdelazeem/miniforge3/envs/tensorflow/lib/python3.8/site-packages/sklearn/utils/validation.py?line=272'>273</a>\u001b[0m     \u001b[39m# Dask dataframes may not return numeric shape[0] value\u001b[39;00m\n\u001b[1;32m    <a href='file:///Users/alaaabdelazeem/miniforge3/envs/tensorflow/lib/python3.8/site-packages/sklearn/utils/validation.py?line=273'>274</a>\u001b[0m     \u001b[39mif\u001b[39;00m \u001b[39misinstance\u001b[39m(x\u001b[39m.\u001b[39mshape[\u001b[39m0\u001b[39m], numbers\u001b[39m.\u001b[39mIntegral):\n",
      "\u001b[0;31mTypeError\u001b[0m: Singleton array 0 cannot be considered a valid collection."
     ]
    }
   ],
   "source": [
    "# yhat = model.predict(X_test)\n",
    "print(predictions)\n",
    "predictions = argmax(predictions, axis=-1).astype('int')\n",
    "print(predictions.shape)\n",
    "acc = accuracy_score(y_test, predictions)\n",
    "print('Accuracy: %.3f' % acc)"
   ]
  }
 ],
 "metadata": {
  "interpreter": {
   "hash": "2172f4872d15f4d8f5c69b10c374236444c9f456784ee552442a7c009bdba22f"
  },
  "kernelspec": {
   "display_name": "Python 3.8.12 ('tensorflow')",
   "language": "python",
   "name": "python3"
  },
  "language_info": {
   "codemirror_mode": {
    "name": "ipython",
    "version": 3
   },
   "file_extension": ".py",
   "mimetype": "text/x-python",
   "name": "python",
   "nbconvert_exporter": "python",
   "pygments_lexer": "ipython3",
   "version": "3.8.12"
  },
  "orig_nbformat": 4
 },
 "nbformat": 4,
 "nbformat_minor": 2
}
